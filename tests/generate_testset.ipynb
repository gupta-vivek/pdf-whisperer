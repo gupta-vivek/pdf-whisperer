{
 "cells": [
  {
   "metadata": {
    "ExecuteTime": {
     "end_time": "2025-04-14T12:30:37.456611Z",
     "start_time": "2025-04-14T12:30:36.246890Z"
    }
   },
   "cell_type": "code",
   "source": [
    "import os\n",
    "\n",
    "from dotenv import load_dotenv, find_dotenv\n",
    "from openai import OpenAI\n",
    "\n",
    "_ = load_dotenv(find_dotenv())\n",
    "llm_api_key = os.environ['DEEPSEEK_API_KEY']\n",
    "MODEL = \"deepseek-chat\"\n",
    "client = OpenAI(api_key=llm_api_key, base_url=\"https://api.deepseek.com\")"
   ],
   "id": "64e5e27f8a90ef8d",
   "outputs": [],
   "execution_count": 1
  },
  {
   "metadata": {
    "ExecuteTime": {
     "end_time": "2025-04-14T12:30:39.871549Z",
     "start_time": "2025-04-14T12:30:37.456611Z"
    }
   },
   "cell_type": "code",
   "source": [
    "from langchain_community.document_loaders import PyPDFLoader\n",
    "from langchain.text_splitter import RecursiveCharacterTextSplitter\n",
    "import random\n",
    "\n",
    "loader = PyPDFLoader(\"../data/Kompendium1.pdf\")\n",
    "text_splitter = RecursiveCharacterTextSplitter(chunk_size=1024, chunk_overlap=20)\n",
    "documents = loader.load_and_split(text_splitter)\n",
    "\n",
    "random_numbers = random.sample(range(6, 400), 20)\n",
    "docs_subset = [documents[i] for i in random_numbers]"
   ],
   "id": "3d572ea87f7fe2",
   "outputs": [],
   "execution_count": 2
  },
  {
   "metadata": {
    "ExecuteTime": {
     "end_time": "2025-04-14T12:30:40.209994Z",
     "start_time": "2025-04-14T12:30:40.198976Z"
    }
   },
   "cell_type": "code",
   "source": "documents[0].page_content",
   "id": "1329d342d654595b",
   "outputs": [
    {
     "data": {
      "text/plain": [
       "'SOZIALVERSICHERUNGSANSTALT\\nDER BAUERN\\nKompendium für die\\nArbeitsmedizin\\nin der\\nLand- und\\nForstwirtschaft\\nWien, September 1998'"
      ]
     },
     "execution_count": 3,
     "metadata": {},
     "output_type": "execute_result"
    }
   ],
   "execution_count": 3
  },
  {
   "metadata": {
    "ExecuteTime": {
     "end_time": "2025-04-14T12:35:20.836229Z",
     "start_time": "2025-04-14T12:33:37.883887Z"
    }
   },
   "cell_type": "code",
   "source": [
    "system_prompt = \"You are a helpful assistant. Your role is to generate a single question in German that can be answered from the CONTEXT provided by the user. This will be used to evaluate a RAG app. The response should only be the question.\"\n",
    "\n",
    "testset = {\"question\": [], \"context\": []}\n",
    "for doc in docs_subset:\n",
    "    context = doc.page_content\n",
    "    response = client.chat.completions.create(\n",
    "        model=MODEL,\n",
    "        messages=[\n",
    "            {\"role\": \"system\", \"content\": system_prompt},\n",
    "            {\"role\": \"user\", \"content\": context},\n",
    "        ],\n",
    "        stream=False\n",
    "    )\n",
    "    testset[\"context\"].append(doc.page_content)\n",
    "    testset[\"question\"].append(response.choices[0].message.content)\n"
   ],
   "id": "a0bf5ae4cfcfa840",
   "outputs": [],
   "execution_count": 7
  },
  {
   "metadata": {
    "ExecuteTime": {
     "end_time": "2025-04-14T12:35:31.256045Z",
     "start_time": "2025-04-14T12:35:31.244025Z"
    }
   },
   "cell_type": "code",
   "source": [
    "import pandas as pd\n",
    "\n",
    "df = pd.DataFrame.from_dict(testset)\n",
    "df"
   ],
   "id": "27153c9c8f9b166f",
   "outputs": [
    {
     "data": {
      "text/plain": [
       "                                             question  \\\n",
       "0   Wie unterstützt die SVB vermutlich betroffene ...   \n",
       "1   Was sind die Schritte zur Durchführung eines P...   \n",
       "2   Warum ist Flüssigmist gefährlicher einzustufen...   \n",
       "3   In welchem Jahr wurde die Berufskrankheit 2110...   \n",
       "4   Wie viele Prozent der Bäuerinnen und Bauern be...   \n",
       "5   In welchem Jahr veröffentlichte H. Seyfried da...   \n",
       "6   Was sind mögliche Anlässe für eine Sicherheits...   \n",
       "7   Was bedeutet der Begriff \"fortpflanzungsgefähr...   \n",
       "8   Welche gesundheitlichen Auswirkungen können du...   \n",
       "9   In wie vielen Proben wurde Escheria coli nachg...   \n",
       "10  Was sind die Unterschiede zwischen Säuren- und...   \n",
       "11  Wie können Restmengen von Pestiziden vermieden...   \n",
       "12  Welche Voraussetzungen müssen für die Entstehu...   \n",
       "13  \"Warum ist die Anamnese besonders wichtig für ...   \n",
       "14  Wie können Abfälle bei der Anwendung von Pflan...   \n",
       "15  Welche Tätigkeiten gelten als die am meisten u...   \n",
       "16  Welchen Nutzen haben histologische Untersuchun...   \n",
       "17  Welche Majorkriterien müssen für die Diagnoses...   \n",
       "18                Welche Gefahren lauern im Hochsilo?   \n",
       "19  Welche Prädiktoren machen einen unterschiedlic...   \n",
       "\n",
       "                                              context  \n",
       "0   „Zielgruppenmodell“ und die \\n● Möglichkeiten ...  \n",
       "1   a) Pricktest\\nZuerst wird 1 Tropfen der T estl...  \n",
       "2   Ausführlicheres ist dem Kapitel „Stäube und Al...  \n",
       "3   ● Wirbelsäule: degenerative Veränderung der Wi...  \n",
       "4   Zusammenfassung der wesentlichen Ergebnisse de...  \n",
       "5   2. H. Pozenel, H. Seyfried (1993), Herz- Kr ei...  \n",
       "6   Insgesamt werden derzeit 12 Hauptgruppen chif ...  \n",
       "7   12. „krebserzeugend“,\\nwenn sie durch Einatmen...  \n",
       "8   im Liegen über die Rückenfläche oder \\nim Sitz...  \n",
       "9   ● bei 20 Proben das Vorkommen von Escheria col...  \n",
       "10  ● der 3.Grad bedeutet tiefes Absterben der Hau...  \n",
       "11  Die Vermeidung von Restmengen kann durch einen...  \n",
       "12  c) Vibrationen (B. Eybl)\\nMechanische Schwingu...  \n",
       "13  (frühkindliches Ekzem, Neurodermitis, Urticari...  \n",
       "14  Entsorgung\\nBei der Anwendung von Pflanzenschu...  \n",
       "15  am meisten unfallgefährdeten Tätigkeiten überh...  \n",
       "16  Histologische Untersuchungen sind für die Beur...  \n",
       "17  Ein gewisses Risiko für Ekzemerkrankungen habe...  \n",
       "18  Hochsilo\\nIm Hochsilo lauern folgende Gefahren...  \n",
       "19  Nach dem bisher Gesagten lassen sich folgende ...  "
      ],
      "text/html": [
       "<div>\n",
       "<style scoped>\n",
       "    .dataframe tbody tr th:only-of-type {\n",
       "        vertical-align: middle;\n",
       "    }\n",
       "\n",
       "    .dataframe tbody tr th {\n",
       "        vertical-align: top;\n",
       "    }\n",
       "\n",
       "    .dataframe thead th {\n",
       "        text-align: right;\n",
       "    }\n",
       "</style>\n",
       "<table border=\"1\" class=\"dataframe\">\n",
       "  <thead>\n",
       "    <tr style=\"text-align: right;\">\n",
       "      <th></th>\n",
       "      <th>question</th>\n",
       "      <th>context</th>\n",
       "    </tr>\n",
       "  </thead>\n",
       "  <tbody>\n",
       "    <tr>\n",
       "      <th>0</th>\n",
       "      <td>Wie unterstützt die SVB vermutlich betroffene ...</td>\n",
       "      <td>„Zielgruppenmodell“ und die \\n● Möglichkeiten ...</td>\n",
       "    </tr>\n",
       "    <tr>\n",
       "      <th>1</th>\n",
       "      <td>Was sind die Schritte zur Durchführung eines P...</td>\n",
       "      <td>a) Pricktest\\nZuerst wird 1 Tropfen der T estl...</td>\n",
       "    </tr>\n",
       "    <tr>\n",
       "      <th>2</th>\n",
       "      <td>Warum ist Flüssigmist gefährlicher einzustufen...</td>\n",
       "      <td>Ausführlicheres ist dem Kapitel „Stäube und Al...</td>\n",
       "    </tr>\n",
       "    <tr>\n",
       "      <th>3</th>\n",
       "      <td>In welchem Jahr wurde die Berufskrankheit 2110...</td>\n",
       "      <td>● Wirbelsäule: degenerative Veränderung der Wi...</td>\n",
       "    </tr>\n",
       "    <tr>\n",
       "      <th>4</th>\n",
       "      <td>Wie viele Prozent der Bäuerinnen und Bauern be...</td>\n",
       "      <td>Zusammenfassung der wesentlichen Ergebnisse de...</td>\n",
       "    </tr>\n",
       "    <tr>\n",
       "      <th>5</th>\n",
       "      <td>In welchem Jahr veröffentlichte H. Seyfried da...</td>\n",
       "      <td>2. H. Pozenel, H. Seyfried (1993), Herz- Kr ei...</td>\n",
       "    </tr>\n",
       "    <tr>\n",
       "      <th>6</th>\n",
       "      <td>Was sind mögliche Anlässe für eine Sicherheits...</td>\n",
       "      <td>Insgesamt werden derzeit 12 Hauptgruppen chif ...</td>\n",
       "    </tr>\n",
       "    <tr>\n",
       "      <th>7</th>\n",
       "      <td>Was bedeutet der Begriff \"fortpflanzungsgefähr...</td>\n",
       "      <td>12. „krebserzeugend“,\\nwenn sie durch Einatmen...</td>\n",
       "    </tr>\n",
       "    <tr>\n",
       "      <th>8</th>\n",
       "      <td>Welche gesundheitlichen Auswirkungen können du...</td>\n",
       "      <td>im Liegen über die Rückenfläche oder \\nim Sitz...</td>\n",
       "    </tr>\n",
       "    <tr>\n",
       "      <th>9</th>\n",
       "      <td>In wie vielen Proben wurde Escheria coli nachg...</td>\n",
       "      <td>● bei 20 Proben das Vorkommen von Escheria col...</td>\n",
       "    </tr>\n",
       "    <tr>\n",
       "      <th>10</th>\n",
       "      <td>Was sind die Unterschiede zwischen Säuren- und...</td>\n",
       "      <td>● der 3.Grad bedeutet tiefes Absterben der Hau...</td>\n",
       "    </tr>\n",
       "    <tr>\n",
       "      <th>11</th>\n",
       "      <td>Wie können Restmengen von Pestiziden vermieden...</td>\n",
       "      <td>Die Vermeidung von Restmengen kann durch einen...</td>\n",
       "    </tr>\n",
       "    <tr>\n",
       "      <th>12</th>\n",
       "      <td>Welche Voraussetzungen müssen für die Entstehu...</td>\n",
       "      <td>c) Vibrationen (B. Eybl)\\nMechanische Schwingu...</td>\n",
       "    </tr>\n",
       "    <tr>\n",
       "      <th>13</th>\n",
       "      <td>\"Warum ist die Anamnese besonders wichtig für ...</td>\n",
       "      <td>(frühkindliches Ekzem, Neurodermitis, Urticari...</td>\n",
       "    </tr>\n",
       "    <tr>\n",
       "      <th>14</th>\n",
       "      <td>Wie können Abfälle bei der Anwendung von Pflan...</td>\n",
       "      <td>Entsorgung\\nBei der Anwendung von Pflanzenschu...</td>\n",
       "    </tr>\n",
       "    <tr>\n",
       "      <th>15</th>\n",
       "      <td>Welche Tätigkeiten gelten als die am meisten u...</td>\n",
       "      <td>am meisten unfallgefährdeten Tätigkeiten überh...</td>\n",
       "    </tr>\n",
       "    <tr>\n",
       "      <th>16</th>\n",
       "      <td>Welchen Nutzen haben histologische Untersuchun...</td>\n",
       "      <td>Histologische Untersuchungen sind für die Beur...</td>\n",
       "    </tr>\n",
       "    <tr>\n",
       "      <th>17</th>\n",
       "      <td>Welche Majorkriterien müssen für die Diagnoses...</td>\n",
       "      <td>Ein gewisses Risiko für Ekzemerkrankungen habe...</td>\n",
       "    </tr>\n",
       "    <tr>\n",
       "      <th>18</th>\n",
       "      <td>Welche Gefahren lauern im Hochsilo?</td>\n",
       "      <td>Hochsilo\\nIm Hochsilo lauern folgende Gefahren...</td>\n",
       "    </tr>\n",
       "    <tr>\n",
       "      <th>19</th>\n",
       "      <td>Welche Prädiktoren machen einen unterschiedlic...</td>\n",
       "      <td>Nach dem bisher Gesagten lassen sich folgende ...</td>\n",
       "    </tr>\n",
       "  </tbody>\n",
       "</table>\n",
       "</div>"
      ]
     },
     "execution_count": 8,
     "metadata": {},
     "output_type": "execute_result"
    }
   ],
   "execution_count": 8
  },
  {
   "metadata": {
    "ExecuteTime": {
     "end_time": "2025-04-14T12:32:27.904852Z",
     "start_time": "2025-04-14T12:32:27.899984Z"
    }
   },
   "cell_type": "code",
   "source": "df.to_csv(\"../data/testset.csv\", encoding=\"utf-8\", index=False)",
   "id": "30249449f48e43ab",
   "outputs": [],
   "execution_count": 6
  }
 ],
 "metadata": {
  "kernelspec": {
   "display_name": "Python 3",
   "language": "python",
   "name": "python3"
  },
  "language_info": {
   "codemirror_mode": {
    "name": "ipython",
    "version": 2
   },
   "file_extension": ".py",
   "mimetype": "text/x-python",
   "name": "python",
   "nbconvert_exporter": "python",
   "pygments_lexer": "ipython2",
   "version": "2.7.6"
  }
 },
 "nbformat": 4,
 "nbformat_minor": 5
}
