{
 "cells": [
  {
   "metadata": {
    "ExecuteTime": {
     "end_time": "2025-04-15T12:39:09.456145Z",
     "start_time": "2025-04-15T12:39:07.921842Z"
    }
   },
   "cell_type": "code",
   "source": [
    "import os\n",
    "\n",
    "from dotenv import load_dotenv, find_dotenv\n",
    "from openai import OpenAI\n",
    "\n",
    "_ = load_dotenv(find_dotenv())\n",
    "llm_api_key = os.environ['DEEPSEEK_API_KEY']\n",
    "MODEL = \"deepseek-chat\"\n",
    "client = OpenAI(api_key=llm_api_key, base_url=\"https://api.deepseek.com\")"
   ],
   "id": "17bfd66ed4577674",
   "outputs": [],
   "execution_count": 1
  },
  {
   "metadata": {
    "ExecuteTime": {
     "end_time": "2025-04-15T12:39:19.652096Z",
     "start_time": "2025-04-15T12:39:19.642556Z"
    }
   },
   "cell_type": "code",
   "source": [
    "def rag_response(question, context):\n",
    "    prompt_template = \"\"\"\n",
    "    `You're a customer service agent. Answer the QUESTION based on the CONTEXT provided.\n",
    "    Use only the facts from the CONTEXT when answering the QUESTION.\n",
    "\n",
    "    QUESTION: {question}\n",
    "\n",
    "    CONTEXT:\n",
    "    {context}\n",
    "    \"\"\".strip()\n",
    "\n",
    "    prompt = prompt_template.format(question=question, context=context).strip()\n",
    "    response = client.chat.completions.create(\n",
    "        model=MODEL,\n",
    "        messages=[\n",
    "            {\"role\": \"system\", \"content\": prompt},\n",
    "        ],\n",
    "        stream=False\n",
    "    )\n",
    "    return response.choices[0].message.content\n"
   ],
   "id": "786a972ba6b774a2",
   "outputs": [],
   "execution_count": 2
  },
  {
   "metadata": {
    "ExecuteTime": {
     "end_time": "2025-04-15T12:39:28.085816Z",
     "start_time": "2025-04-15T12:39:24.343808Z"
    }
   },
   "cell_type": "code",
   "source": [
    "from ragas import EvaluationDataset\n",
    "import pandas as pd\n",
    "\n",
    "df = pd.read_csv('../data/testset.csv', encoding='utf-8')\n",
    "df.rename(columns={\"question\": \"user_input\", \"context\": \"reference\"}, inplace=True)\n"
   ],
   "id": "5fa72cee8bba7ba7",
   "outputs": [],
   "execution_count": 3
  },
  {
   "metadata": {
    "ExecuteTime": {
     "end_time": "2025-04-15T12:42:31.313892Z",
     "start_time": "2025-04-15T12:39:29.971761Z"
    }
   },
   "cell_type": "code",
   "source": [
    "from hybrid_search import hybrid_search\n",
    "\n",
    "retrieved_contexts = []\n",
    "for query in df[\"user_input\"].values:\n",
    "    search_results = hybrid_search(query, size=1)\n",
    "    context = \"\"\n",
    "    for hit in search_results:\n",
    "        doc = hit.metadata['_source']\n",
    "        context = context + f\"section: {doc['section']}\\ntext: {hit.page_content}\\n\\n\"\n",
    "        retrieved_contexts.append([context])"
   ],
   "id": "d2875d838b4197f6",
   "outputs": [
    {
     "name": "stderr",
     "output_type": "stream",
     "text": [
      "No sentence-transformers model found with name bert-base-german-dbmdz-uncased. Creating a new one with mean pooling.\n"
     ]
    }
   ],
   "execution_count": 4
  },
  {
   "metadata": {
    "ExecuteTime": {
     "end_time": "2025-04-15T12:42:43.632196Z",
     "start_time": "2025-04-15T12:42:43.623757Z"
    }
   },
   "cell_type": "code",
   "source": "len(retrieved_contexts)",
   "id": "45505ec6da9bfd06",
   "outputs": [
    {
     "data": {
      "text/plain": [
       "20"
      ]
     },
     "execution_count": 5,
     "metadata": {},
     "output_type": "execute_result"
    }
   ],
   "execution_count": 5
  },
  {
   "metadata": {
    "ExecuteTime": {
     "end_time": "2025-04-15T12:58:21.760699Z",
     "start_time": "2025-04-15T12:54:28.737109Z"
    }
   },
   "cell_type": "code",
   "source": [
    "df[\"retrieved_contexts\"] = retrieved_contexts\n",
    "df[\"response\"] = df.apply(lambda row: rag_response(row[\"user_input\"], row[\"retrieved_contexts\"][0]), axis=1)\n",
    "eval_dataset = EvaluationDataset.from_pandas(df)"
   ],
   "id": "690977d2201bc093",
   "outputs": [
    {
     "ename": "ValidationError",
     "evalue": "1 validation error for SingleTurnSample\nretrieved_contexts\n  Input should be a valid list [type=list_type, input_value='section: heben und trage...ahre)\\n<25 min. lt.\\n\\n', input_type=str]\n    For further information visit https://errors.pydantic.dev/2.11/v/list_type",
     "output_type": "error",
     "traceback": [
      "\u001B[31m---------------------------------------------------------------------------\u001B[39m",
      "\u001B[31mValidationError\u001B[39m                           Traceback (most recent call last)",
      "\u001B[36mCell\u001B[39m\u001B[36m \u001B[39m\u001B[32mIn[14]\u001B[39m\u001B[32m, line 3\u001B[39m\n\u001B[32m      1\u001B[39m df[\u001B[33m\"\u001B[39m\u001B[33mretrieved_contexts\u001B[39m\u001B[33m\"\u001B[39m] = retrieved_contexts\n\u001B[32m      2\u001B[39m df[\u001B[33m\"\u001B[39m\u001B[33mresponse\u001B[39m\u001B[33m\"\u001B[39m] = df.apply(\u001B[38;5;28;01mlambda\u001B[39;00m row: rag_response(row[\u001B[33m\"\u001B[39m\u001B[33muser_input\u001B[39m\u001B[33m\"\u001B[39m], row[\u001B[33m\"\u001B[39m\u001B[33mretrieved_contexts\u001B[39m\u001B[33m\"\u001B[39m]), axis=\u001B[32m1\u001B[39m)\n\u001B[32m----> \u001B[39m\u001B[32m3\u001B[39m eval_dataset = \u001B[43mEvaluationDataset\u001B[49m\u001B[43m.\u001B[49m\u001B[43mfrom_pandas\u001B[49m\u001B[43m(\u001B[49m\u001B[43mdf\u001B[49m\u001B[43m)\u001B[49m\n",
      "\u001B[36mFile \u001B[39m\u001B[32m~\\anaconda3\\envs\\pdf-whisperer\\Lib\\site-packages\\ragas\\dataset_schema.py:235\u001B[39m, in \u001B[36mRagasDataset.from_pandas\u001B[39m\u001B[34m(cls, dataframe)\u001B[39m\n\u001B[32m    232\u001B[39m \u001B[38;5;129m@classmethod\u001B[39m\n\u001B[32m    233\u001B[39m \u001B[38;5;28;01mdef\u001B[39;00m\u001B[38;5;250m \u001B[39m\u001B[34mfrom_pandas\u001B[39m(\u001B[38;5;28mcls\u001B[39m, dataframe: PandasDataframe):\n\u001B[32m    234\u001B[39m \u001B[38;5;250m    \u001B[39m\u001B[33;03m\"\"\"Creates an EvaluationDataset from a pandas DataFrame.\"\"\"\u001B[39;00m\n\u001B[32m--> \u001B[39m\u001B[32m235\u001B[39m     \u001B[38;5;28;01mreturn\u001B[39;00m \u001B[38;5;28;43mcls\u001B[39;49m\u001B[43m.\u001B[49m\u001B[43mfrom_list\u001B[49m\u001B[43m(\u001B[49m\u001B[43mdataframe\u001B[49m\u001B[43m.\u001B[49m\u001B[43mto_dict\u001B[49m\u001B[43m(\u001B[49m\u001B[43morient\u001B[49m\u001B[43m=\u001B[49m\u001B[33;43m\"\u001B[39;49m\u001B[33;43mrecords\u001B[39;49m\u001B[33;43m\"\u001B[39;49m\u001B[43m)\u001B[49m\u001B[43m)\u001B[49m\n",
      "\u001B[36mFile \u001B[39m\u001B[32m~\\anaconda3\\envs\\pdf-whisperer\\Lib\\site-packages\\ragas\\dataset_schema.py:374\u001B[39m, in \u001B[36mEvaluationDataset.from_list\u001B[39m\u001B[34m(cls, data)\u001B[39m\n\u001B[32m    372\u001B[39m     samples.extend(MultiTurnSample(**sample) \u001B[38;5;28;01mfor\u001B[39;00m sample \u001B[38;5;129;01min\u001B[39;00m data)\n\u001B[32m    373\u001B[39m \u001B[38;5;28;01melse\u001B[39;00m:\n\u001B[32m--> \u001B[39m\u001B[32m374\u001B[39m     \u001B[43msamples\u001B[49m\u001B[43m.\u001B[49m\u001B[43mextend\u001B[49m\u001B[43m(\u001B[49m\u001B[43mSingleTurnSample\u001B[49m\u001B[43m(\u001B[49m\u001B[43m*\u001B[49m\u001B[43m*\u001B[49m\u001B[43msample\u001B[49m\u001B[43m)\u001B[49m\u001B[43m \u001B[49m\u001B[38;5;28;43;01mfor\u001B[39;49;00m\u001B[43m \u001B[49m\u001B[43msample\u001B[49m\u001B[43m \u001B[49m\u001B[38;5;129;43;01min\u001B[39;49;00m\u001B[43m \u001B[49m\u001B[43mdata\u001B[49m\u001B[43m)\u001B[49m\n\u001B[32m    375\u001B[39m \u001B[38;5;28;01mreturn\u001B[39;00m \u001B[38;5;28mcls\u001B[39m(samples=samples)\n",
      "\u001B[36mFile \u001B[39m\u001B[32m~\\anaconda3\\envs\\pdf-whisperer\\Lib\\site-packages\\ragas\\dataset_schema.py:374\u001B[39m, in \u001B[36m<genexpr>\u001B[39m\u001B[34m(.0)\u001B[39m\n\u001B[32m    372\u001B[39m     samples.extend(MultiTurnSample(**sample) \u001B[38;5;28;01mfor\u001B[39;00m sample \u001B[38;5;129;01min\u001B[39;00m data)\n\u001B[32m    373\u001B[39m \u001B[38;5;28;01melse\u001B[39;00m:\n\u001B[32m--> \u001B[39m\u001B[32m374\u001B[39m     samples.extend(\u001B[43mSingleTurnSample\u001B[49m\u001B[43m(\u001B[49m\u001B[43m*\u001B[49m\u001B[43m*\u001B[49m\u001B[43msample\u001B[49m\u001B[43m)\u001B[49m \u001B[38;5;28;01mfor\u001B[39;00m sample \u001B[38;5;129;01min\u001B[39;00m data)\n\u001B[32m    375\u001B[39m \u001B[38;5;28;01mreturn\u001B[39;00m \u001B[38;5;28mcls\u001B[39m(samples=samples)\n",
      "\u001B[36mFile \u001B[39m\u001B[32m~\\anaconda3\\envs\\pdf-whisperer\\Lib\\site-packages\\pydantic\\main.py:243\u001B[39m, in \u001B[36mBaseModel.__init__\u001B[39m\u001B[34m(self, **data)\u001B[39m\n\u001B[32m    241\u001B[39m \u001B[38;5;66;03m# `__tracebackhide__` tells pytest and some other tools to omit this function from tracebacks\u001B[39;00m\n\u001B[32m    242\u001B[39m __tracebackhide__ = \u001B[38;5;28;01mTrue\u001B[39;00m\n\u001B[32m--> \u001B[39m\u001B[32m243\u001B[39m validated_self = \u001B[38;5;28;43mself\u001B[39;49m\u001B[43m.\u001B[49m\u001B[43m__pydantic_validator__\u001B[49m\u001B[43m.\u001B[49m\u001B[43mvalidate_python\u001B[49m\u001B[43m(\u001B[49m\u001B[43mdata\u001B[49m\u001B[43m,\u001B[49m\u001B[43m \u001B[49m\u001B[43mself_instance\u001B[49m\u001B[43m=\u001B[49m\u001B[38;5;28;43mself\u001B[39;49m\u001B[43m)\u001B[49m\n\u001B[32m    244\u001B[39m \u001B[38;5;28;01mif\u001B[39;00m \u001B[38;5;28mself\u001B[39m \u001B[38;5;129;01mis\u001B[39;00m \u001B[38;5;129;01mnot\u001B[39;00m validated_self:\n\u001B[32m    245\u001B[39m     warnings.warn(\n\u001B[32m    246\u001B[39m         \u001B[33m'\u001B[39m\u001B[33mA custom validator is returning a value other than `self`.\u001B[39m\u001B[38;5;130;01m\\n\u001B[39;00m\u001B[33m'\u001B[39m\n\u001B[32m    247\u001B[39m         \u001B[33m\"\u001B[39m\u001B[33mReturning anything other than `self` from a top level model validator isn\u001B[39m\u001B[33m'\u001B[39m\u001B[33mt supported when validating via `__init__`.\u001B[39m\u001B[38;5;130;01m\\n\u001B[39;00m\u001B[33m\"\u001B[39m\n\u001B[32m    248\u001B[39m         \u001B[33m'\u001B[39m\u001B[33mSee the `model_validator` docs (https://docs.pydantic.dev/latest/concepts/validators/#model-validators) for more details.\u001B[39m\u001B[33m'\u001B[39m,\n\u001B[32m    249\u001B[39m         stacklevel=\u001B[32m2\u001B[39m,\n\u001B[32m    250\u001B[39m     )\n",
      "\u001B[31mValidationError\u001B[39m: 1 validation error for SingleTurnSample\nretrieved_contexts\n  Input should be a valid list [type=list_type, input_value='section: heben und trage...ahre)\\n<25 min. lt.\\n\\n', input_type=str]\n    For further information visit https://errors.pydantic.dev/2.11/v/list_type"
     ]
    }
   ],
   "execution_count": 14
  },
  {
   "metadata": {
    "ExecuteTime": {
     "end_time": "2025-04-15T13:19:08.981827Z",
     "start_time": "2025-04-15T13:19:08.970440Z"
    }
   },
   "cell_type": "code",
   "source": "df.to_csv(\"../data/testset_eval.csv\", index=False)",
   "id": "a01ee1a3cf443750",
   "outputs": [],
   "execution_count": 28
  },
  {
   "metadata": {
    "ExecuteTime": {
     "end_time": "2025-04-15T13:02:30.038281Z",
     "start_time": "2025-04-15T13:02:28.826682Z"
    }
   },
   "cell_type": "code",
   "source": [
    "from ragas.llms import LangchainLLMWrapper\n",
    "from langchain_openai import ChatOpenAI\n",
    "from langchain_huggingface import HuggingFaceEmbeddings\n",
    "\n",
    "eval_embeddings = HuggingFaceEmbeddings(model_name=\"bert-base-german-dbmdz-uncased\")\n",
    "eval_llm = LangchainLLMWrapper(ChatOpenAI(model=MODEL, api_key=llm_api_key, base_url=\"https://api.deepseek.com\"))"
   ],
   "id": "9d2afb23fa185881",
   "outputs": [
    {
     "name": "stderr",
     "output_type": "stream",
     "text": [
      "No sentence-transformers model found with name bert-base-german-dbmdz-uncased. Creating a new one with mean pooling.\n"
     ]
    }
   ],
   "execution_count": 18
  },
  {
   "metadata": {
    "ExecuteTime": {
     "end_time": "2025-04-15T13:10:09.136132Z",
     "start_time": "2025-04-15T13:02:33.744348Z"
    }
   },
   "cell_type": "code",
   "source": [
    "from ragas import evaluate\n",
    "from ragas.metrics import ResponseRelevancy, LLMContextPrecisionWithReference\n",
    "\n",
    "result = evaluate(\n",
    "    eval_dataset,\n",
    "    metrics=[\n",
    "        ResponseRelevancy(), LLMContextPrecisionWithReference()\n",
    "    ],\n",
    "    llm=eval_llm,\n",
    "    embeddings=eval_embeddings,\n",
    ")"
   ],
   "id": "cde253c7e467db84",
   "outputs": [
    {
     "data": {
      "text/plain": [
       "Evaluating:   0%|          | 0/40 [00:00<?, ?it/s]"
      ],
      "application/vnd.jupyter.widget-view+json": {
       "version_major": 2,
       "version_minor": 0,
       "model_id": "887beccfd3f248f2a21a3c370026e114"
      }
     },
     "metadata": {},
     "output_type": "display_data"
    },
    {
     "name": "stderr",
     "output_type": "stream",
     "text": [
      "Exception raised in Job[9]: TimeoutError()\n",
      "Exception raised in Job[0]: TimeoutError()\n",
      "Exception raised in Job[8]: TimeoutError()\n",
      "Exception raised in Job[10]: TimeoutError()\n",
      "Exception raised in Job[29]: TimeoutError()\n",
      "Exception raised in Job[31]: TimeoutError()\n",
      "Exception raised in Job[28]: TimeoutError()\n"
     ]
    }
   ],
   "execution_count": 19
  },
  {
   "metadata": {
    "ExecuteTime": {
     "end_time": "2025-04-15T13:14:48.961463Z",
     "start_time": "2025-04-15T13:14:48.954222Z"
    }
   },
   "cell_type": "code",
   "source": "result",
   "id": "c20451f3808546ec",
   "outputs": [
    {
     "data": {
      "text/plain": [
       "{'answer_relevancy': 0.5025, 'llm_context_precision_with_reference': 0.5294}"
      ]
     },
     "execution_count": 25,
     "metadata": {},
     "output_type": "execute_result"
    }
   ],
   "execution_count": 25
  },
  {
   "metadata": {
    "ExecuteTime": {
     "end_time": "2025-04-15T13:14:42.543171Z",
     "start_time": "2025-04-15T13:14:40.983993Z"
    }
   },
   "cell_type": "code",
   "source": "result.upload()",
   "id": "670c2e5634f4e041",
   "outputs": [
    {
     "name": "stderr",
     "output_type": "stream",
     "text": [
      "[2025-04-15 15:14:42 - (2025-04-15 13:14:42 UTC)] [ERROR] [ragas.utils] [RagasID: a-54ff180f6e55403e8d025681a6855e26, App-Version: 0.2.14] [API_ERROR] Request failed. Status Code: 500, URL: https://api.ragas.io/api/v1/alignment/evaluation, Error Message: \n",
      "API Message: An internal server error occured\n"
     ]
    },
    {
     "ename": "UploadException",
     "evalue": "Request failed: \nAPI Message: An internal server error occured",
     "output_type": "error",
     "traceback": [
      "\u001B[31m---------------------------------------------------------------------------\u001B[39m",
      "\u001B[31mHTTPError\u001B[39m                                 Traceback (most recent call last)",
      "\u001B[36mFile \u001B[39m\u001B[32m~\\anaconda3\\envs\\pdf-whisperer\\Lib\\site-packages\\ragas\\sdk.py:165\u001B[39m, in \u001B[36mcheck_api_response\u001B[39m\u001B[34m(response)\u001B[39m\n\u001B[32m    164\u001B[39m \u001B[38;5;28;01mtry\u001B[39;00m:\n\u001B[32m--> \u001B[39m\u001B[32m165\u001B[39m     \u001B[43mresponse\u001B[49m\u001B[43m.\u001B[49m\u001B[43mraise_for_status\u001B[49m\u001B[43m(\u001B[49m\u001B[43m)\u001B[49m\n\u001B[32m    166\u001B[39m \u001B[38;5;28;01mexcept\u001B[39;00m requests.exceptions.HTTPError:\n",
      "\u001B[36mFile \u001B[39m\u001B[32m~\\anaconda3\\envs\\pdf-whisperer\\Lib\\site-packages\\requests\\models.py:1024\u001B[39m, in \u001B[36mResponse.raise_for_status\u001B[39m\u001B[34m(self)\u001B[39m\n\u001B[32m   1023\u001B[39m \u001B[38;5;28;01mif\u001B[39;00m http_error_msg:\n\u001B[32m-> \u001B[39m\u001B[32m1024\u001B[39m     \u001B[38;5;28;01mraise\u001B[39;00m HTTPError(http_error_msg, response=\u001B[38;5;28mself\u001B[39m)\n",
      "\u001B[31mHTTPError\u001B[39m: 500 Server Error: Internal Server Error for url: https://api.ragas.io/api/v1/alignment/evaluation",
      "\nDuring handling of the above exception, another exception occurred:\n",
      "\u001B[31mUploadException\u001B[39m                           Traceback (most recent call last)",
      "\u001B[36mCell\u001B[39m\u001B[36m \u001B[39m\u001B[32mIn[24]\u001B[39m\u001B[32m, line 1\u001B[39m\n\u001B[32m----> \u001B[39m\u001B[32m1\u001B[39m \u001B[43mresult\u001B[49m\u001B[43m.\u001B[49m\u001B[43mupload\u001B[49m\u001B[43m(\u001B[49m\u001B[43m)\u001B[49m\n",
      "\u001B[36mFile \u001B[39m\u001B[32m~\\anaconda3\\envs\\pdf-whisperer\\Lib\\site-packages\\ragas\\dataset_schema.py:542\u001B[39m, in \u001B[36mEvaluationResult.upload\u001B[39m\u001B[34m(self, verbose)\u001B[39m\n\u001B[32m    531\u001B[39m root_trace = [\n\u001B[32m    532\u001B[39m     trace \u001B[38;5;28;01mfor\u001B[39;00m trace \u001B[38;5;129;01min\u001B[39;00m \u001B[38;5;28mself\u001B[39m.ragas_traces.values() \u001B[38;5;28;01mif\u001B[39;00m trace.parent_run_id \u001B[38;5;129;01mis\u001B[39;00m \u001B[38;5;28;01mNone\u001B[39;00m\n\u001B[32m    533\u001B[39m ][\u001B[32m0\u001B[39m]\n\u001B[32m    534\u001B[39m packet = json.dumps(\n\u001B[32m    535\u001B[39m     {\n\u001B[32m    536\u001B[39m         \u001B[33m\"\u001B[39m\u001B[33mrun_id\u001B[39m\u001B[33m\"\u001B[39m: \u001B[38;5;28mstr\u001B[39m(root_trace.run_id),\n\u001B[32m   (...)\u001B[39m\u001B[32m    540\u001B[39m     \u001B[38;5;28mcls\u001B[39m=ChainRunEncoder,\n\u001B[32m    541\u001B[39m )\n\u001B[32m--> \u001B[39m\u001B[32m542\u001B[39m response = \u001B[43mupload_packet\u001B[49m\u001B[43m(\u001B[49m\n\u001B[32m    543\u001B[39m \u001B[43m    \u001B[49m\u001B[43mpath\u001B[49m\u001B[43m=\u001B[49m\u001B[33;43m\"\u001B[39;49m\u001B[33;43m/alignment/evaluation\u001B[39;49m\u001B[33;43m\"\u001B[39;49m\u001B[43m,\u001B[49m\n\u001B[32m    544\u001B[39m \u001B[43m    \u001B[49m\u001B[43mdata_json_string\u001B[49m\u001B[43m=\u001B[49m\u001B[43mpacket\u001B[49m\u001B[43m,\u001B[49m\n\u001B[32m    545\u001B[39m \u001B[43m\u001B[49m\u001B[43m)\u001B[49m\n\u001B[32m    547\u001B[39m \u001B[38;5;66;03m# check status codes\u001B[39;00m\n\u001B[32m    548\u001B[39m app_url = get_app_url()\n",
      "\u001B[36mFile \u001B[39m\u001B[32m~\\anaconda3\\envs\\pdf-whisperer\\Lib\\site-packages\\ragas\\sdk.py:135\u001B[39m, in \u001B[36mupload_packet\u001B[39m\u001B[34m(path, data_json_string)\u001B[39m\n\u001B[32m    132\u001B[39m     \u001B[38;5;28mprint\u001B[39m(\u001B[33m\"\u001B[39m\u001B[33mLogging ended\u001B[39m\u001B[33m\"\u001B[39m)\n\u001B[32m    133\u001B[39m     \u001B[38;5;28mprint\u001B[39m(\u001B[33mf\u001B[39m\u001B[33m\"\u001B[39m\u001B[38;5;132;01m{\u001B[39;00mdelimiter\u001B[38;5;132;01m}\u001B[39;00m\u001B[38;5;130;01m\\n\u001B[39;00m\u001B[38;5;130;01m\\n\u001B[39;00m\u001B[33m\"\u001B[39m)\n\u001B[32m--> \u001B[39m\u001B[32m135\u001B[39m \u001B[43mcheck_api_response\u001B[49m\u001B[43m(\u001B[49m\u001B[43mresponse\u001B[49m\u001B[43m)\u001B[49m\n\u001B[32m    136\u001B[39m \u001B[38;5;28;01mreturn\u001B[39;00m response\n",
      "\u001B[36mFile \u001B[39m\u001B[32m~\\anaconda3\\envs\\pdf-whisperer\\Lib\\site-packages\\ragas\\sdk.py:182\u001B[39m, in \u001B[36mcheck_api_response\u001B[39m\u001B[34m(response)\u001B[39m\n\u001B[32m    175\u001B[39m     error_msg = \u001B[33mf\u001B[39m\u001B[33m\"\u001B[39m\u001B[38;5;130;01m\\n\u001B[39;00m\u001B[33mStatus Code: \u001B[39m\u001B[38;5;132;01m{\u001B[39;00mresponse.status_code\u001B[38;5;132;01m}\u001B[39;00m\u001B[33m\"\u001B[39m\n\u001B[32m    177\u001B[39m base_logger.error(\n\u001B[32m    178\u001B[39m     \u001B[33mf\u001B[39m\u001B[33m\"\u001B[39m\u001B[33m[API_ERROR] Request failed. \u001B[39m\u001B[33m\"\u001B[39m\n\u001B[32m    179\u001B[39m     \u001B[33mf\u001B[39m\u001B[33m\"\u001B[39m\u001B[33mStatus Code: \u001B[39m\u001B[38;5;132;01m{\u001B[39;00mresponse.status_code\u001B[38;5;132;01m}\u001B[39;00m\u001B[33m, URL: \u001B[39m\u001B[38;5;132;01m{\u001B[39;00mresponse.url\u001B[38;5;132;01m}\u001B[39;00m\u001B[33m, \u001B[39m\u001B[33m\"\u001B[39m\n\u001B[32m    180\u001B[39m     \u001B[33mf\u001B[39m\u001B[33m\"\u001B[39m\u001B[33mError Message: \u001B[39m\u001B[38;5;132;01m{\u001B[39;00merror_msg\u001B[38;5;132;01m}\u001B[39;00m\u001B[33m\"\u001B[39m\n\u001B[32m    181\u001B[39m )\n\u001B[32m--> \u001B[39m\u001B[32m182\u001B[39m \u001B[38;5;28;01mraise\u001B[39;00m UploadException(\n\u001B[32m    183\u001B[39m     status_code=response.status_code, message=\u001B[33mf\u001B[39m\u001B[33m\"\u001B[39m\u001B[33mRequest failed: \u001B[39m\u001B[38;5;132;01m{\u001B[39;00merror_msg\u001B[38;5;132;01m}\u001B[39;00m\u001B[33m\"\u001B[39m\n\u001B[32m    184\u001B[39m )\n",
      "\u001B[31mUploadException\u001B[39m: Request failed: \nAPI Message: An internal server error occured"
     ]
    }
   ],
   "execution_count": 24
  }
 ],
 "metadata": {
  "kernelspec": {
   "display_name": "Python 3",
   "language": "python",
   "name": "python3"
  },
  "language_info": {
   "codemirror_mode": {
    "name": "ipython",
    "version": 2
   },
   "file_extension": ".py",
   "mimetype": "text/x-python",
   "name": "python",
   "nbconvert_exporter": "python",
   "pygments_lexer": "ipython2",
   "version": "2.7.6"
  }
 },
 "nbformat": 4,
 "nbformat_minor": 5
}
