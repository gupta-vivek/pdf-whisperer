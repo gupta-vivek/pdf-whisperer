{
 "cells": [
  {
   "cell_type": "code",
   "id": "initial_id",
   "metadata": {
    "collapsed": true,
    "ExecuteTime": {
     "end_time": "2025-04-14T12:04:01.411345Z",
     "start_time": "2025-04-14T12:03:55.875005Z"
    }
   },
   "source": [
    "import os\n",
    "import random\n",
    "\n",
    "from dotenv import load_dotenv, find_dotenv\n",
    "from langchain_huggingface import HuggingFaceEmbeddings\n",
    "from langchain_openai import ChatOpenAI\n",
    "from ragas.llms import LangchainLLMWrapper\n",
    "from ragas.testset import TestsetGenerator"
   ],
   "outputs": [],
   "execution_count": 1
  },
  {
   "metadata": {
    "ExecuteTime": {
     "end_time": "2025-04-14T12:04:11.887307Z",
     "start_time": "2025-04-14T12:04:01.430794Z"
    }
   },
   "cell_type": "code",
   "source": [
    "_ = load_dotenv(find_dotenv())\n",
    "API_KEY = os.environ['DEEPSEEK_API_KEY']\n",
    "MODEL = \"deepseek-chat\"\n",
    "BASE_URL = \"https://api.deepseek.com\"\n",
    "\n",
    "generator_embeddings = HuggingFaceEmbeddings(model_name=\"bert-base-german-dbmdz-uncased\")\n",
    "generator_llm = LangchainLLMWrapper(ChatOpenAI(model=MODEL, api_key=API_KEY, base_url=BASE_URL))"
   ],
   "id": "6268467ef0ea8b32",
   "outputs": [
    {
     "name": "stderr",
     "output_type": "stream",
     "text": [
      "No sentence-transformers model found with name bert-base-german-dbmdz-uncased. Creating a new one with mean pooling.\n"
     ]
    }
   ],
   "execution_count": 2
  },
  {
   "metadata": {
    "ExecuteTime": {
     "end_time": "2025-04-14T12:04:14.305270Z",
     "start_time": "2025-04-14T12:04:12.451165Z"
    }
   },
   "cell_type": "code",
   "source": [
    "from langchain_community.document_loaders import PyPDFLoader\n",
    "from langchain.text_splitter import RecursiveCharacterTextSplitter\n",
    "\n",
    "loader = PyPDFLoader(\"../data/Kompendium1.pdf\")\n",
    "text_splitter = RecursiveCharacterTextSplitter(chunk_size=1024, chunk_overlap=20)\n",
    "documents = loader.load_and_split(text_splitter)"
   ],
   "id": "b9dc3c7cf7def9a6",
   "outputs": [],
   "execution_count": 3
  },
  {
   "metadata": {
    "ExecuteTime": {
     "end_time": "2025-04-14T12:04:14.325619Z",
     "start_time": "2025-04-14T12:04:14.316747Z"
    }
   },
   "cell_type": "code",
   "source": "len(documents)",
   "id": "b202e0b6d4970fe2",
   "outputs": [
    {
     "data": {
      "text/plain": [
       "413"
      ]
     },
     "execution_count": 4,
     "metadata": {},
     "output_type": "execute_result"
    }
   ],
   "execution_count": 4
  },
  {
   "metadata": {
    "ExecuteTime": {
     "end_time": "2025-04-14T12:04:14.389151Z",
     "start_time": "2025-04-14T12:04:14.382930Z"
    }
   },
   "cell_type": "code",
   "source": [
    "# Selecting randomly a subset of documents to save money on LLM usage!\n",
    "random_numbers = random.sample(range(6, 400), 20)\n",
    "docs_subset = [documents[i] for i in random_numbers]"
   ],
   "id": "2bdb7e28530f295e",
   "outputs": [],
   "execution_count": 5
  },
  {
   "metadata": {
    "ExecuteTime": {
     "end_time": "2025-04-14T12:04:14.409559Z",
     "start_time": "2025-04-14T12:04:14.404305Z"
    }
   },
   "cell_type": "code",
   "source": "generator = TestsetGenerator(llm=generator_llm, embedding_model=generator_embeddings)",
   "id": "ab40d37d24bd9f75",
   "outputs": [],
   "execution_count": 6
  },
  {
   "metadata": {
    "ExecuteTime": {
     "end_time": "2025-04-14T12:04:36.862115Z",
     "start_time": "2025-04-14T12:04:14.422480Z"
    }
   },
   "cell_type": "code",
   "source": [
    "from ragas.testset.synthesizers.single_hop.specific import (\n",
    "    SingleHopSpecificQuerySynthesizer,\n",
    ")\n",
    "\n",
    "distribution = [\n",
    "    (SingleHopSpecificQuerySynthesizer(llm=generator_llm), 1.0),\n",
    "]\n",
    "\n",
    "for query, _ in distribution:\n",
    "    prompts = await query.adapt_prompts(\"deutsch\", llm=generator_llm)\n",
    "    query.set_prompts(**prompts)"
   ],
   "id": "9cf42efeecfbfd2f",
   "outputs": [],
   "execution_count": 7
  },
  {
   "metadata": {
    "ExecuteTime": {
     "end_time": "2025-04-14T12:21:35.348248Z",
     "start_time": "2025-04-14T12:04:36.889605Z"
    }
   },
   "cell_type": "code",
   "source": [
    "dataset = generator.generate_with_langchain_docs(docs_subset, testset_size=20, query_distribution=distribution)\n",
    "dataset_df = dataset.to_pandas()\n",
    "dataset_df.head()"
   ],
   "id": "6434c1c7de845e37",
   "outputs": [
    {
     "data": {
      "text/plain": [
       "Applying SummaryExtractor:   0%|          | 0/17 [00:00<?, ?it/s]"
      ],
      "application/vnd.jupyter.widget-view+json": {
       "version_major": 2,
       "version_minor": 0,
       "model_id": "74bb2fec12524d4bb51f9db21e1a788b"
      }
     },
     "metadata": {},
     "output_type": "display_data"
    },
    {
     "data": {
      "text/plain": [
       "Applying CustomNodeFilter:   0%|          | 0/20 [00:00<?, ?it/s]"
      ],
      "application/vnd.jupyter.widget-view+json": {
       "version_major": 2,
       "version_minor": 0,
       "model_id": "7eaa35742b934943bd865cc4dcdba8f7"
      }
     },
     "metadata": {},
     "output_type": "display_data"
    },
    {
     "name": "stderr",
     "output_type": "stream",
     "text": [
      "Node e6a31911-5ed8-4d72-a5a0-5c4c8a2c85b7 does not have a summary. Skipping filtering.\n",
      "Node d2f6d06b-c30f-49ea-8547-c0946a8d734d does not have a summary. Skipping filtering.\n",
      "Node 2f4a7312-5c1c-44b5-99c3-43be8ad0a59a does not have a summary. Skipping filtering.\n",
      "unable to apply transformation: Failed to parse QuestionPotentialOutput from completion {\"properties\": {\"score\": {\"description\": \"1 to 5 score\", \"title\": \"Score\", \"type\": \"integer\"}}, \"required\": [\"score\"], \"title\": \"QuestionPotentialOutput\", \"type\": \"object\"}. Got: 1 validation error for QuestionPotentialOutput\n",
      "score\n",
      "  Field required [type=missing, input_value={'properties': {'score': ...tput', 'type': 'object'}, input_type=dict]\n",
      "    For further information visit https://errors.pydantic.dev/2.11/v/missing\n",
      "For troubleshooting, visit: https://python.langchain.com/docs/troubleshooting/errors/OUTPUT_PARSING_FAILURE \n",
      "unable to apply transformation: Failed to parse QuestionPotentialOutput from completion {\"properties\": {\"score\": {\"description\": \"1 to 5 score\", \"title\": \"Score\", \"type\": \"integer\"}}, \"required\": [\"score\"], \"title\": \"QuestionPotentialOutput\", \"type\": \"object\"}. Got: 1 validation error for QuestionPotentialOutput\n",
      "score\n",
      "  Field required [type=missing, input_value={'properties': {'score': ...tput', 'type': 'object'}, input_type=dict]\n",
      "    For further information visit https://errors.pydantic.dev/2.11/v/missing\n",
      "For troubleshooting, visit: https://python.langchain.com/docs/troubleshooting/errors/OUTPUT_PARSING_FAILURE \n",
      "unable to apply transformation: Failed to parse QuestionPotentialOutput from completion {\"properties\": {\"score\": {\"description\": \"1 to 5 score\", \"title\": \"Score\", \"type\": \"integer\"}}, \"required\": [\"score\"], \"title\": \"QuestionPotentialOutput\", \"type\": \"object\"}. Got: 1 validation error for QuestionPotentialOutput\n",
      "score\n",
      "  Field required [type=missing, input_value={'properties': {'score': ...tput', 'type': 'object'}, input_type=dict]\n",
      "    For further information visit https://errors.pydantic.dev/2.11/v/missing\n",
      "For troubleshooting, visit: https://python.langchain.com/docs/troubleshooting/errors/OUTPUT_PARSING_FAILURE \n",
      "unable to apply transformation: Failed to parse QuestionPotentialOutput from completion {\"properties\": {\"text\": {\"title\": \"Text\", \"type\": \"string\"}}, \"required\": [\"text\"], \"title\": \"StringIO\", \"type\": \"object\"}. Got: 1 validation error for QuestionPotentialOutput\n",
      "score\n",
      "  Field required [type=missing, input_value={'properties': {'text': {...ngIO', 'type': 'object'}, input_type=dict]\n",
      "    For further information visit https://errors.pydantic.dev/2.11/v/missing\n",
      "For troubleshooting, visit: https://python.langchain.com/docs/troubleshooting/errors/OUTPUT_PARSING_FAILURE \n",
      "unable to apply transformation: Failed to parse QuestionPotentialOutput from completion {\"properties\": {\"score\": {\"description\": \"1 to 5 score\", \"title\": \"Score\", \"type\": \"integer\"}}, \"required\": [\"score\"], \"title\": \"QuestionPotentialOutput\", \"type\": \"object\"}. Got: 1 validation error for QuestionPotentialOutput\n",
      "score\n",
      "  Field required [type=missing, input_value={'properties': {'score': ...tput', 'type': 'object'}, input_type=dict]\n",
      "    For further information visit https://errors.pydantic.dev/2.11/v/missing\n",
      "For troubleshooting, visit: https://python.langchain.com/docs/troubleshooting/errors/OUTPUT_PARSING_FAILURE \n",
      "unable to apply transformation: Failed to parse QuestionPotentialOutput from completion {\"properties\": {\"score\": {\"description\": \"1 to 5 score\", \"title\": \"Score\", \"type\": \"integer\"}}, \"required\": [\"score\"], \"title\": \"QuestionPotentialOutput\", \"type\": \"object\"}. Got: 1 validation error for QuestionPotentialOutput\n",
      "score\n",
      "  Field required [type=missing, input_value={'properties': {'score': ...tput', 'type': 'object'}, input_type=dict]\n",
      "    For further information visit https://errors.pydantic.dev/2.11/v/missing\n",
      "For troubleshooting, visit: https://python.langchain.com/docs/troubleshooting/errors/OUTPUT_PARSING_FAILURE \n"
     ]
    },
    {
     "data": {
      "text/plain": [
       "Applying [EmbeddingExtractor, ThemesExtractor, NERExtractor]:   0%|          | 0/57 [00:00<?, ?it/s]"
      ],
      "application/vnd.jupyter.widget-view+json": {
       "version_major": 2,
       "version_minor": 0,
       "model_id": "73b5be537edb4eb5b02cc079ef3f85a1"
      }
     },
     "metadata": {},
     "output_type": "display_data"
    },
    {
     "data": {
      "text/plain": [
       "Applying [CosineSimilarityBuilder, OverlapScoreBuilder]:   0%|          | 0/2 [00:00<?, ?it/s]"
      ],
      "application/vnd.jupyter.widget-view+json": {
       "version_major": 2,
       "version_minor": 0,
       "model_id": "5699d32859ef43c0b3e1b5805df24eee"
      }
     },
     "metadata": {},
     "output_type": "display_data"
    },
    {
     "data": {
      "text/plain": [
       "Generating personas:   0%|          | 0/3 [00:00<?, ?it/s]"
      ],
      "application/vnd.jupyter.widget-view+json": {
       "version_major": 2,
       "version_minor": 0,
       "model_id": "13e44399ad604a2a9ab6d9780f9511eb"
      }
     },
     "metadata": {},
     "output_type": "display_data"
    },
    {
     "data": {
      "text/plain": [
       "Generating Scenarios:   0%|          | 0/1 [00:00<?, ?it/s]"
      ],
      "application/vnd.jupyter.widget-view+json": {
       "version_major": 2,
       "version_minor": 0,
       "model_id": "b113993f258e40778af1d2cf4eb682ba"
      }
     },
     "metadata": {},
     "output_type": "display_data"
    },
    {
     "data": {
      "text/plain": [
       "Generating Samples:   0%|          | 0/18 [00:00<?, ?it/s]"
      ],
      "application/vnd.jupyter.widget-view+json": {
       "version_major": 2,
       "version_minor": 0,
       "model_id": "46762ea6482c4a02bcadea95475ddd5b"
      }
     },
     "metadata": {},
     "output_type": "display_data"
    },
    {
     "data": {
      "text/plain": [
       "                                          user_input  \\\n",
       "0  What is SVB and how does it relate to occupati...   \n",
       "1  Can you explain what the Allgemeinen Sozialver...   \n",
       "2  What is the contribution of Baumgartner E. in ...   \n",
       "3  What is the protective function of the spine i...   \n",
       "4  What can cause elevated IgE levels in occupati...   \n",
       "\n",
       "                                  reference_contexts  \\\n",
       "0  [sicherung übertragen bekommt, wird nur dann n...   \n",
       "1  [zu steigern und damit das Ausmaß der Beanspru...   \n",
       "2  [tiert!\\nLiteratur:\\n1. Baumgartner E./Wensel ...   \n",
       "3  [3) Detailanalyse\\na) Heben und Tragen - Arbei...   \n",
       "4  [Werte können während der Alle rgieschübe auft...   \n",
       "\n",
       "                                           reference  \\\n",
       "0  The SVB (Ärztliche Dienste der SVB) is involve...   \n",
       "1  The Allgemeinen Sozialversicherungsgesetzes (A...   \n",
       "2  Baumgartner E., along with Wensel H.G., contri...   \n",
       "3  The spine provides a protective function for t...   \n",
       "4  Elevated IgE levels can occur during allergy a...   \n",
       "\n",
       "                       synthesizer_name  \n",
       "0  single_hop_specifc_query_synthesizer  \n",
       "1  single_hop_specifc_query_synthesizer  \n",
       "2  single_hop_specifc_query_synthesizer  \n",
       "3  single_hop_specifc_query_synthesizer  \n",
       "4  single_hop_specifc_query_synthesizer  "
      ],
      "text/html": [
       "<div>\n",
       "<style scoped>\n",
       "    .dataframe tbody tr th:only-of-type {\n",
       "        vertical-align: middle;\n",
       "    }\n",
       "\n",
       "    .dataframe tbody tr th {\n",
       "        vertical-align: top;\n",
       "    }\n",
       "\n",
       "    .dataframe thead th {\n",
       "        text-align: right;\n",
       "    }\n",
       "</style>\n",
       "<table border=\"1\" class=\"dataframe\">\n",
       "  <thead>\n",
       "    <tr style=\"text-align: right;\">\n",
       "      <th></th>\n",
       "      <th>user_input</th>\n",
       "      <th>reference_contexts</th>\n",
       "      <th>reference</th>\n",
       "      <th>synthesizer_name</th>\n",
       "    </tr>\n",
       "  </thead>\n",
       "  <tbody>\n",
       "    <tr>\n",
       "      <th>0</th>\n",
       "      <td>What is SVB and how does it relate to occupati...</td>\n",
       "      <td>[sicherung übertragen bekommt, wird nur dann n...</td>\n",
       "      <td>The SVB (Ärztliche Dienste der SVB) is involve...</td>\n",
       "      <td>single_hop_specifc_query_synthesizer</td>\n",
       "    </tr>\n",
       "    <tr>\n",
       "      <th>1</th>\n",
       "      <td>Can you explain what the Allgemeinen Sozialver...</td>\n",
       "      <td>[zu steigern und damit das Ausmaß der Beanspru...</td>\n",
       "      <td>The Allgemeinen Sozialversicherungsgesetzes (A...</td>\n",
       "      <td>single_hop_specifc_query_synthesizer</td>\n",
       "    </tr>\n",
       "    <tr>\n",
       "      <th>2</th>\n",
       "      <td>What is the contribution of Baumgartner E. in ...</td>\n",
       "      <td>[tiert!\\nLiteratur:\\n1. Baumgartner E./Wensel ...</td>\n",
       "      <td>Baumgartner E., along with Wensel H.G., contri...</td>\n",
       "      <td>single_hop_specifc_query_synthesizer</td>\n",
       "    </tr>\n",
       "    <tr>\n",
       "      <th>3</th>\n",
       "      <td>What is the protective function of the spine i...</td>\n",
       "      <td>[3) Detailanalyse\\na) Heben und Tragen - Arbei...</td>\n",
       "      <td>The spine provides a protective function for t...</td>\n",
       "      <td>single_hop_specifc_query_synthesizer</td>\n",
       "    </tr>\n",
       "    <tr>\n",
       "      <th>4</th>\n",
       "      <td>What can cause elevated IgE levels in occupati...</td>\n",
       "      <td>[Werte können während der Alle rgieschübe auft...</td>\n",
       "      <td>Elevated IgE levels can occur during allergy a...</td>\n",
       "      <td>single_hop_specifc_query_synthesizer</td>\n",
       "    </tr>\n",
       "  </tbody>\n",
       "</table>\n",
       "</div>"
      ]
     },
     "execution_count": 8,
     "metadata": {},
     "output_type": "execute_result"
    }
   ],
   "execution_count": 8
  }
 ],
 "metadata": {
  "kernelspec": {
   "display_name": "Python 3",
   "language": "python",
   "name": "python3"
  },
  "language_info": {
   "codemirror_mode": {
    "name": "ipython",
    "version": 2
   },
   "file_extension": ".py",
   "mimetype": "text/x-python",
   "name": "python",
   "nbconvert_exporter": "python",
   "pygments_lexer": "ipython2",
   "version": "2.7.6"
  }
 },
 "nbformat": 4,
 "nbformat_minor": 5
}
